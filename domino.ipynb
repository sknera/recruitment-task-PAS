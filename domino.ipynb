{
 "cells": [
  {
   "cell_type": "markdown",
   "id": "712bea21",
   "metadata": {},
   "source": [
    "| - kostka domina stoi nienaruszona\n",
    "\n",
    "/ - kostka domina przewraca się w prawą stronę\n",
    "\n",
    "\\ - kostka domina przewraca się w lewą stronę"
   ]
  },
  {
   "cell_type": "markdown",
   "id": "2cdb0708",
   "metadata": {},
   "source": [
    "||//||\\||/\\|   ->  ||///\\\\||/\\|"
   ]
  },
  {
   "cell_type": "markdown",
   "id": "03d14cbc",
   "metadata": {},
   "source": [
    "||////\\\\\\|////|  -> -> ||//||||\\|//||| "
   ]
  },
  {
   "cell_type": "code",
   "execution_count": 68,
   "id": "86bb538a",
   "metadata": {},
   "outputs": [
    {
     "data": {
      "text/plain": [
       "'/|||\\\\'"
      ]
     },
     "execution_count": 68,
     "metadata": {},
     "output_type": "execute_result"
    }
   ],
   "source": [
    "domino"
   ]
  },
  {
   "cell_type": "code",
   "execution_count": 144,
   "id": "16baa053",
   "metadata": {},
   "outputs": [
    {
     "name": "stdout",
     "output_type": "stream",
     "text": [
      "/|\\\\\n"
     ]
    }
   ],
   "source": [
    "print(domino)"
   ]
  },
  {
   "cell_type": "code",
   "execution_count": 127,
   "id": "11fb53cc",
   "metadata": {},
   "outputs": [
    {
     "data": {
      "text/plain": [
       "2"
      ]
     },
     "execution_count": 127,
     "metadata": {},
     "output_type": "execute_result"
    }
   ],
   "source": [
    "len_domino"
   ]
  },
  {
   "cell_type": "code",
   "execution_count": 145,
   "id": "46e19161",
   "metadata": {},
   "outputs": [],
   "source": [
    "domino=\"/|\\\\\\\\\"\n",
    "len_domino=len(domino)-1\n",
    "bckw_domino=domino[::-1]"
   ]
  },
  {
   "cell_type": "code",
   "execution_count": 146,
   "id": "9a55d33d",
   "metadata": {},
   "outputs": [],
   "source": [
    "changes_right=list()\n",
    "changes_left=list()"
   ]
  },
  {
   "cell_type": "code",
   "execution_count": 147,
   "id": "4e2d452d",
   "metadata": {},
   "outputs": [],
   "source": [
    "def get_first_right(start):\n",
    "    for i in range(start, len(domino)):\n",
    "        if domino[i]=='/':\n",
    "            pass\n",
    "        elif domino[i]=='\\\\':\n",
    "            break\n",
    "        elif domino[i]=='|':\n",
    "            changes_right.append(i)\n",
    "            break\n",
    "    return i\n",
    "    "
   ]
  },
  {
   "cell_type": "code",
   "execution_count": 148,
   "id": "d6eee1fc",
   "metadata": {},
   "outputs": [],
   "source": [
    "def get_first_left(start):\n",
    "    for i in range(start, len(bckw_domino)):\n",
    "        if bckw_domino[i]=='\\\\':\n",
    "            pass\n",
    "        elif bckw_domino[i]=='/':\n",
    "            break\n",
    "        elif bckw_domino[i]=='|':\n",
    "            changes_left.append(i)\n",
    "            break\n",
    "    return i"
   ]
  },
  {
   "cell_type": "code",
   "execution_count": 149,
   "id": "5d4e8f59",
   "metadata": {},
   "outputs": [],
   "source": [
    "for i in range(len(domino)):\n",
    "    if domino[i]=='/':\n",
    "        i = get_first_right(i)"
   ]
  },
  {
   "cell_type": "code",
   "execution_count": 150,
   "id": "708b81c2",
   "metadata": {},
   "outputs": [
    {
     "name": "stdout",
     "output_type": "stream",
     "text": [
      "\\\\|/\n"
     ]
    }
   ],
   "source": [
    "print(bckw_domino)"
   ]
  },
  {
   "cell_type": "code",
   "execution_count": 151,
   "id": "22ac2d61",
   "metadata": {},
   "outputs": [],
   "source": [
    "for i in range(len(bckw_domino)):\n",
    "    if bckw_domino[i]=='\\\\':\n",
    "        i = get_first_left(i)        "
   ]
  },
  {
   "cell_type": "code",
   "execution_count": 152,
   "id": "a5ee5c89",
   "metadata": {},
   "outputs": [
    {
     "name": "stdout",
     "output_type": "stream",
     "text": [
      "/|\\\\\n"
     ]
    }
   ],
   "source": [
    "print(domino)"
   ]
  },
  {
   "cell_type": "code",
   "execution_count": 153,
   "id": "e2ae16ca",
   "metadata": {},
   "outputs": [
    {
     "name": "stdout",
     "output_type": "stream",
     "text": [
      "[1]\n"
     ]
    }
   ],
   "source": [
    "print(changes_right)"
   ]
  },
  {
   "cell_type": "code",
   "execution_count": 154,
   "id": "900fd2b4",
   "metadata": {
    "scrolled": false
   },
   "outputs": [
    {
     "name": "stdout",
     "output_type": "stream",
     "text": [
      "[2, 2]\n"
     ]
    }
   ],
   "source": [
    "print(changes_left)"
   ]
  },
  {
   "cell_type": "code",
   "execution_count": 155,
   "id": "5bbd45a7",
   "metadata": {
    "scrolled": true
   },
   "outputs": [
    {
     "data": {
      "text/plain": [
       "[1, 1]"
      ]
     },
     "execution_count": 155,
     "metadata": {},
     "output_type": "execute_result"
    }
   ],
   "source": [
    "changes_left=[len_domino-x for x in changes_left]\n",
    "changes_left"
   ]
  },
  {
   "cell_type": "code",
   "execution_count": 156,
   "id": "8747f9a6",
   "metadata": {},
   "outputs": [
    {
     "data": {
      "text/plain": [
       "[1]"
      ]
     },
     "execution_count": 156,
     "metadata": {},
     "output_type": "execute_result"
    }
   ],
   "source": [
    "intersection = list(set(changes_left)&set(changes_right))\n",
    "intersection"
   ]
  },
  {
   "cell_type": "code",
   "execution_count": 157,
   "id": "1797943b",
   "metadata": {},
   "outputs": [],
   "source": [
    "changes_left=[x for x in changes_left if x not in intersection]\n",
    "changes_right=[x for x in changes_right if x not in intersection]"
   ]
  },
  {
   "cell_type": "code",
   "execution_count": 158,
   "id": "7c43a998",
   "metadata": {},
   "outputs": [],
   "source": [
    "list_domino=list(domino)\n",
    "for i in changes_left:\n",
    "    list_domino[i]=\"\\\\\"\n",
    "for i in changes_right:\n",
    "    list_domino[i]=\"/\"\n",
    "    "
   ]
  },
  {
   "cell_type": "code",
   "execution_count": 159,
   "id": "5f208804",
   "metadata": {},
   "outputs": [
    {
     "name": "stdout",
     "output_type": "stream",
     "text": [
      "/|\\\\\n"
     ]
    }
   ],
   "source": [
    "print(\"\".join(list_domino))"
   ]
  },
  {
   "cell_type": "code",
   "execution_count": null,
   "id": "5c54e4b0",
   "metadata": {},
   "outputs": [],
   "source": []
  }
 ],
 "metadata": {
  "kernelspec": {
   "display_name": "Python 3 (ipykernel)",
   "language": "python",
   "name": "python3"
  },
  "language_info": {
   "codemirror_mode": {
    "name": "ipython",
    "version": 3
   },
   "file_extension": ".py",
   "mimetype": "text/x-python",
   "name": "python",
   "nbconvert_exporter": "python",
   "pygments_lexer": "ipython3",
   "version": "3.9.7"
  }
 },
 "nbformat": 4,
 "nbformat_minor": 5
}
