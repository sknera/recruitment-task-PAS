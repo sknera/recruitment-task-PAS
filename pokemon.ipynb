{
 "cells": [
  {
   "cell_type": "code",
   "execution_count": 6,
   "id": "a46c34c3",
   "metadata": {},
   "outputs": [],
   "source": [
    "import requests\n",
    "import sys"
   ]
  },
  {
   "cell_type": "code",
   "execution_count": 7,
   "id": "0c8e917c",
   "metadata": {},
   "outputs": [],
   "source": [
    "def get_names(dmg):\n",
    "    return [x['name'] for x in dmg]"
   ]
  },
  {
   "cell_type": "code",
   "execution_count": 8,
   "id": "5e786f60",
   "metadata": {},
   "outputs": [],
   "source": [
    "def get_dmg(type_from, type_to):\n",
    "    r = requests.get(f'https://pokeapi.co/api/v2/type/{type_from}')\n",
    "\n",
    "    result = r.json()\n",
    "    damage = result['damage_relations']\n",
    "\n",
    "    double_dmg=damage['double_damage_to']\n",
    "    half_dmg=damage['half_damage_to']\n",
    "    none_dmg=damage['no_damage_to']\n",
    "    double_dmg = get_names(double_dmg)\n",
    "    half_dmg = get_names(half_dmg)\n",
    "    none_dmg = get_names(none_dmg)\n",
    "\n",
    "    product=1\n",
    "    for p in type_to:\n",
    "        if p in none_dmg:\n",
    "            product=0\n",
    "            break\n",
    "        elif p in double_dmg:\n",
    "            product*=2\n",
    "        elif p in half_dmg:\n",
    "            product/=2\n",
    "    return product"
   ]
  },
  {
   "cell_type": "code",
   "execution_count": 9,
   "id": "d4249efa",
   "metadata": {},
   "outputs": [
    {
     "name": "stdout",
     "output_type": "stream",
     "text": [
      "2x"
     ]
    }
   ],
   "source": [
    "type_from = 'fire'\n",
    "type_to = ['grass']\n",
    "print(get_dmg(type_from,type_to),end=\"x\")"
   ]
  },
  {
   "cell_type": "code",
   "execution_count": 10,
   "id": "a8d2350d",
   "metadata": {},
   "outputs": [
    {
     "name": "stdout",
     "output_type": "stream",
     "text": [
      "4x"
     ]
    }
   ],
   "source": [
    "type_from = 'fighting'\n",
    "type_to = ['ice','rock']\n",
    "print(get_dmg(type_from,type_to),end=\"x\")"
   ]
  },
  {
   "cell_type": "code",
   "execution_count": 11,
   "id": "3ec30dc4",
   "metadata": {},
   "outputs": [
    {
     "name": "stdout",
     "output_type": "stream",
     "text": [
      "0x"
     ]
    }
   ],
   "source": [
    "type_from = 'psychic'\n",
    "type_to = ['poison','dark']\n",
    "print(get_dmg(type_from,type_to),end=\"x\")"
   ]
  },
  {
   "cell_type": "code",
   "execution_count": 12,
   "id": "44633c86",
   "metadata": {},
   "outputs": [
    {
     "name": "stdout",
     "output_type": "stream",
     "text": [
      "1x"
     ]
    }
   ],
   "source": [
    "type_from = 'water'\n",
    "type_to = ['normal']\n",
    "print(get_dmg(type_from,type_to),end=\"x\")"
   ]
  },
  {
   "cell_type": "code",
   "execution_count": 13,
   "id": "6cc027e6",
   "metadata": {},
   "outputs": [
    {
     "name": "stdout",
     "output_type": "stream",
     "text": [
      "0.5x"
     ]
    }
   ],
   "source": [
    "type_from = 'fire'\n",
    "type_to = ['rock']\n",
    "print(get_dmg(type_from,type_to),end=\"x\")"
   ]
  }
 ],
 "metadata": {
  "kernelspec": {
   "display_name": "Python 3 (ipykernel)",
   "language": "python",
   "name": "python3"
  },
  "language_info": {
   "codemirror_mode": {
    "name": "ipython",
    "version": 3
   },
   "file_extension": ".py",
   "mimetype": "text/x-python",
   "name": "python",
   "nbconvert_exporter": "python",
   "pygments_lexer": "ipython3",
   "version": "3.9.7"
  }
 },
 "nbformat": 4,
 "nbformat_minor": 5
}
