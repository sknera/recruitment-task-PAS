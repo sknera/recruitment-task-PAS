{
 "cells": [
  {
   "cell_type": "markdown",
   "id": "712bea21",
   "metadata": {},
   "source": [
    "| - kostka domina stoi nienaruszona\n",
    "\n",
    "/ - kostka domina przewraca się w prawą stronę\n",
    "\n",
    "\\ - kostka domina przewraca się w lewą stronę"
   ]
  },
  {
   "cell_type": "markdown",
   "id": "2cdb0708",
   "metadata": {},
   "source": [
    "||//||\\||/\\|   ->  ||///\\\\||/\\|"
   ]
  },
  {
   "cell_type": "markdown",
   "id": "03d14cbc",
   "metadata": {},
   "source": [
    "||////\\\\\\|////|  -> -> ||//||||\\|//||| "
   ]
  },
  {
   "cell_type": "code",
   "execution_count": 164,
   "id": "46e19161",
   "metadata": {},
   "outputs": [],
   "source": [
    "domino='||//||\\||/\\|'\n",
    "len_domino=len(domino)\n",
    "bckw_domino=domino[::-1]"
   ]
  },
  {
   "cell_type": "code",
   "execution_count": 148,
   "id": "9a55d33d",
   "metadata": {},
   "outputs": [],
   "source": [
    "changes=dict()\n",
    "changes2=dict()"
   ]
  },
  {
   "cell_type": "code",
   "execution_count": 149,
   "id": "4e2d452d",
   "metadata": {},
   "outputs": [],
   "source": [
    "def get_first_right(start):\n",
    "    for i in range(start, len(domino)):\n",
    "        if domino[i]=='/':\n",
    "            pass\n",
    "        elif domino[i]=='\\\\':\n",
    "            break\n",
    "        elif domino[i]=='|':\n",
    "            changes[i]='/'\n",
    "            break\n",
    "    return i\n",
    "    "
   ]
  },
  {
   "cell_type": "code",
   "execution_count": 150,
   "id": "d6eee1fc",
   "metadata": {},
   "outputs": [],
   "source": [
    "def get_first_left(start):\n",
    "    for i in range(start, len(bckw_domino)):\n",
    "        if bckw_domino[i]=='\\\\':\n",
    "            pass\n",
    "        elif bckw_domino[i]=='/':\n",
    "            break\n",
    "        elif bckw_domino[i]=='|':\n",
    "            changes2[i]='\\\\'\n",
    "            break\n",
    "    return i"
   ]
  },
  {
   "cell_type": "code",
   "execution_count": 151,
   "id": "5d4e8f59",
   "metadata": {},
   "outputs": [],
   "source": [
    "for i in range(len(domino)):\n",
    "    if domino[i]=='/':\n",
    "        i = get_first_right(i)"
   ]
  },
  {
   "cell_type": "code",
   "execution_count": 152,
   "id": "708b81c2",
   "metadata": {},
   "outputs": [
    {
     "name": "stdout",
     "output_type": "stream",
     "text": [
      "|\\/||\\||//||\n"
     ]
    }
   ],
   "source": [
    "print(bckw_domino)"
   ]
  },
  {
   "cell_type": "code",
   "execution_count": 153,
   "id": "22ac2d61",
   "metadata": {},
   "outputs": [],
   "source": [
    "for i in range(len(bckw_domino)):\n",
    "    if bckw_domino[i]=='\\\\':\n",
    "        i = get_first_left(i)        "
   ]
  },
  {
   "cell_type": "code",
   "execution_count": 154,
   "id": "f6686487",
   "metadata": {},
   "outputs": [
    {
     "data": {
      "text/plain": [
       "{4: '/'}"
      ]
     },
     "execution_count": 154,
     "metadata": {},
     "output_type": "execute_result"
    }
   ],
   "source": [
    "changes"
   ]
  },
  {
   "cell_type": "code",
   "execution_count": 155,
   "id": "1918a267",
   "metadata": {},
   "outputs": [
    {
     "data": {
      "text/plain": [
       "{6: '\\\\'}"
      ]
     },
     "execution_count": 155,
     "metadata": {},
     "output_type": "execute_result"
    }
   ],
   "source": [
    "changes2"
   ]
  },
  {
   "cell_type": "code",
   "execution_count": 162,
   "id": "a5ee5c89",
   "metadata": {},
   "outputs": [
    {
     "name": "stdout",
     "output_type": "stream",
     "text": [
      "||//||\\||/\\|\n"
     ]
    }
   ],
   "source": [
    "print(domino)"
   ]
  },
  {
   "cell_type": "code",
   "execution_count": null,
   "id": "7588c05c",
   "metadata": {},
   "outputs": [],
   "source": [
    "||///\\\\||/\\|"
   ]
  },
  {
   "cell_type": "code",
   "execution_count": 165,
   "id": "793766ac",
   "metadata": {},
   "outputs": [
    {
     "name": "stdout",
     "output_type": "stream",
     "text": [
      "||///\\\\||/\\|\n"
     ]
    }
   ],
   "source": [
    "list_domino=list(domino)\n",
    "for k,v in changes.items():\n",
    "    list_domino[k]=v\n",
    "for k,v in changes2.items():\n",
    "    list_domino[len_domino-k-1]=v\n",
    "print(\"\".join(list_domino))"
   ]
  },
  {
   "cell_type": "code",
   "execution_count": null,
   "id": "7c43a998",
   "metadata": {},
   "outputs": [],
   "source": []
  }
 ],
 "metadata": {
  "kernelspec": {
   "display_name": "Python 3 (ipykernel)",
   "language": "python",
   "name": "python3"
  },
  "language_info": {
   "codemirror_mode": {
    "name": "ipython",
    "version": 3
   },
   "file_extension": ".py",
   "mimetype": "text/x-python",
   "name": "python",
   "nbconvert_exporter": "python",
   "pygments_lexer": "ipython3",
   "version": "3.9.7"
  }
 },
 "nbformat": 4,
 "nbformat_minor": 5
}
