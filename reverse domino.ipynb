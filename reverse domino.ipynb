{
 "cells": [
  {
   "cell_type": "markdown",
   "id": "f5c115a0",
   "metadata": {},
   "source": [
    "||////\\\\\\|////|\n",
    "Zastosowanie 2 iteracji algorytmu wstecznego powinno dać wynik:\n",
    "||//||||\\|//|||"
   ]
  },
  {
   "cell_type": "code",
   "execution_count": 63,
   "id": "5f598bc3",
   "metadata": {},
   "outputs": [],
   "source": [
    "def get_first_right(domino, start, changes_right):\n",
    "    for i in range(start, len(domino)):\n",
    "        if domino[i] == '/':\n",
    "            pass\n",
    "        elif domino[i] == '\\\\':\n",
    "            changes_right.append(i)\n",
    "            break\n",
    "        elif domino[i] == '|':\n",
    "            changes_right.append(i-1)\n",
    "            break\n",
    "    return i"
   ]
  },
  {
   "cell_type": "code",
   "execution_count": 64,
   "id": "17dfec7d",
   "metadata": {},
   "outputs": [],
   "source": [
    "def get_first_left(domino, start, changes_left):\n",
    "    bckw_domino = domino[::-1]\n",
    "    for i in range(start, len(domino)):\n",
    "        if bckw_domino[i] == '\\\\':\n",
    "            pass\n",
    "        elif bckw_domino[i] == '/':\n",
    "            changes_left.append(i)\n",
    "            break\n",
    "        elif bckw_domino[i] == '|':\n",
    "            changes_left.append(i-1)\n",
    "            break\n",
    "    return i"
   ]
  },
  {
   "cell_type": "code",
   "execution_count": 65,
   "id": "a3b3bed1",
   "metadata": {},
   "outputs": [],
   "source": [
    "def iteration(domino):\n",
    "    len_domino = len(domino) - 1\n",
    "    changes_right = list()\n",
    "    changes_left = list()\n",
    "    bckw_domino = domino[::-1]\n",
    "\n",
    "    for i in range(len(domino)):\n",
    "        if domino[i] == '/':\n",
    "            get_first_right(domino, i, changes_right)\n",
    "\n",
    "    for i in range(len(domino)):\n",
    "        if bckw_domino[i] == '\\\\':\n",
    "            get_first_left(domino, i, changes_left)\n",
    "    changes_left = [len_domino - x for x in changes_left]\n",
    "    \n",
    "\n",
    "    #to remove duplicates\n",
    "    changes=list(set(changes_left+changes_right))\n",
    "    list_domino = list(domino)\n",
    "    for i in changes:\n",
    "        list_domino[i] = \"|\"\n",
    "\n",
    "    return \"\".join(list_domino)"
   ]
  }
 ],
 "metadata": {
  "kernelspec": {
   "display_name": "Python 3 (ipykernel)",
   "language": "python",
   "name": "python3"
  },
  "language_info": {
   "codemirror_mode": {
    "name": "ipython",
    "version": 3
   },
   "file_extension": ".py",
   "mimetype": "text/x-python",
   "name": "python",
   "nbconvert_exporter": "python",
   "pygments_lexer": "ipython3",
   "version": "3.9.7"
  }
 },
 "nbformat": 4,
 "nbformat_minor": 5
}
